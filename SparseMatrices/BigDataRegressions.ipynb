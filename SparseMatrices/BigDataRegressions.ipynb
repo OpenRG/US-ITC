{
 "cells": [
  {
   "cell_type": "markdown",
   "metadata": {},
   "source": [
    "# Regression models with large, sparse datasets\n",
    "### by [Jason DeBacker](https://jasondebacker.com), January 2025\n",
    "\n",
    "This notebook provides and overview of estimating OLS and Poisson regression models with large, sparse datasets."
   ]
  },
  {
   "cell_type": "code",
   "execution_count": 1,
   "metadata": {},
   "outputs": [],
   "source": [
    "# imports\n",
    "import os\n",
    "import pandas as pd\n",
    "import numpy as np\n",
    "import scipy\n",
    "from scipy.sparse import csr_matrix\n",
    "import matplotlib.pyplot as plt\n",
    "from sklearn.linear_model import LinearRegression\n",
    "import linearmodels\n",
    "import statsmodels.api as sm\n",
    "import timeit"
   ]
  },
  {
   "cell_type": "markdown",
   "metadata": {},
   "source": [
    "## Example data\n",
    "\n",
    "Our example data are drawn from the trade data in the [Atlas of Economic Complexity](https://atlas.hks.harvard.edu).  The data are at the country-pair-product level and include the following variables, import and export values by year.  I've also added a few other variables to these data to make the regression models more interesting. These include measures of distance between the origin and destination countries and an indicator for whether the two countries share a common language.\n",
    "\n",
    "Even this slimmed down dataset is still about 1.4GB when stored as a CSV file. Therefore, it doesn't reside in this repository.  You can download these data from my Dropbox by clicking this link."
   ]
  },
  {
   "cell_type": "code",
   "execution_count": 39,
   "metadata": {},
   "outputs": [],
   "source": [
    "# load the data\n",
    "CUR_DIR = os.getcwd()\n",
    "df = pd.read_csv(os.path.join(CUR_DIR, 'trade_data_small.csv'))\n"
   ]
  },
  {
   "cell_type": "markdown",
   "metadata": {},
   "source": [
    "### Set up our data for estimation\n",
    "\n",
    "Here, we clean our data for estimation.  We'll do the following:\n",
    "1. Drop any rows with missing values for variables that will be included in the regression models.\n",
    "2. Keep just the variables we'll use in the regression models.\n",
    "3. Create dummy variables for the year of the data and for origin country.\n",
    "4. Put these data in `X` and `y` DataFrames for ease of access in the estimation process."
   ]
  },
  {
   "cell_type": "code",
   "execution_count": 40,
   "metadata": {},
   "outputs": [],
   "source": [
    "# Clean data for regression\n",
    "df.dropna(subset=['export_value', 'import_value', 'distw', 'year'], inplace=True)\n",
    "df = df[['export_value', 'import_value', 'distw', 'year', 'iso_o']]\n",
    "df0 = df.copy()\n",
    "# make sparse by adding a bunch of FEs\n",
    "df = pd.get_dummies(df, columns=['iso_o', 'year'], drop_first=True)\n",
    "# Separate X and y for ease of use\n",
    "y = df['export_value']\n",
    "X = df.drop(columns='export_value')\n",
    "# cast boolean columns to int\n",
    "for col in X.columns:\n",
    "    if X[col].dtype == 'bool':\n",
    "        X[col] = X[col].astype(int)"
   ]
  },
  {
   "cell_type": "markdown",
   "metadata": {},
   "source": [
    "We are going to use the [`linearmodels`](https://bashtage.github.io/linearmodels/) library as well, which works with panel data.  For this model, we'll need to set up the data as a panel.  We'll do this by creating a `MultiIndex` for the data with the first level as the origin country and the second level as the year.  We'll then use the `PanelData` class from the `linearmodels` package to set up the data for estimation."
   ]
  },
  {
   "cell_type": "code",
   "execution_count": 41,
   "metadata": {},
   "outputs": [],
   "source": [
    "# linear models data setup\n",
    "df_panel = pd.read_csv(os.path.join(CUR_DIR, 'trade_data_small.csv'))\n",
    "# Clean data for regression\n",
    "df_panel.dropna(subset=['export_value', 'import_value', 'distw', 'year'], inplace=True)\n",
    "df_panel = df_panel[['export_value', 'import_value', 'distw', 'year', 'iso_o']]\n",
    "# create multiindex with year and iso_0\n",
    "df_panel = df_panel.set_index(['iso_o', 'year'])\n",
    "X_panel = df_panel[['import_value', 'distw']]\n",
    "y_panel = df_panel['export_value']"
   ]
  },
  {
   "cell_type": "markdown",
   "metadata": {},
   "source": [
    "#### How sparse are these data?"
   ]
  },
  {
   "cell_type": "code",
   "execution_count": 5,
   "metadata": {},
   "outputs": [
    {
     "name": "stdout",
     "output_type": "stream",
     "text": [
      "Fraction of X that are non-zero: 0.050382865086549634\n"
     ]
    }
   ],
   "source": [
    "# fraction of X that are non-zero\n",
    "print('Fraction of X that are non-zero:', np.count_nonzero(X) / X.size)"
   ]
  },
  {
   "cell_type": "markdown",
   "metadata": {},
   "source": [
    "## Estimation of models with many FE\n",
    "\n",
    "Now we'll compare how libraries, `linearmodels`, `statsmodels`, `sklearn`, handle estimation of models with many fixed effects.  We'll estimate the following models:\n",
    "\n",
    "$$\n",
    "exports = \\beta_0 + \\beta_1 \\text{imports} + \\beta_2 \\text{distance} + \\beta_3 \\text{year dummies} + \\beta_4 \\text{origin country dummies} + \\epsilon\n",
    "$$"
   ]
  },
  {
   "cell_type": "code",
   "execution_count": 6,
   "metadata": {},
   "outputs": [],
   "source": [
    "\n",
    "results_dict = {\n",
    "    \"library\": [\"statsmodels\", \"sklearn\", \"linearmodels\"],\n",
    "    \"estimation time\": [],\n",
    "    \"beta_1\": [],\n",
    "    \"beta_2\": []\n",
    "}\n",
    "for library in results_dict[\"library\"]:\n",
    "    if library == \"statsmodels\":\n",
    "        model = sm.OLS(y, X)\n",
    "        results = model.fit()\n",
    "        # est_time = timeit.timeit('model.fit()', globals=globals(), number=10)\n",
    "        # results_dict[\"estimation time\"].append(est_time)\n",
    "        results_dict[\"beta_1\"].append(results.params['import_value'])\n",
    "        results_dict[\"beta_2\"].append(results.params['distw'])\n",
    "    elif library == \"sklearn\":\n",
    "        model = LinearRegression()\n",
    "        model.fit(X, y)\n",
    "        # est_time = timeit.timeit('model.fit(X, y)', globals=globals(), number=10)\n",
    "        # results_dict[\"estimation time\"].append(est_time)\n",
    "        results_dict[\"beta_1\"].append(model.coef_[0])\n",
    "        results_dict[\"beta_2\"].append(model.coef_[1])\n",
    "    elif library == \"linearmodels\":\n",
    "        model = linearmodels.PanelOLS(y_panel, X_panel, entity_effects=True, time_effects=True)\n",
    "        results = model.fit()\n",
    "        # est_time = timeit.timeit('model.fit()', globals=globals(), number=10)\n",
    "        # results_dict[\"estimation time\"].append(est_time)\n",
    "        results_dict[\"beta_1\"].append(results.params['import_value'])\n",
    "        results_dict[\"beta_2\"].append(results.params['distw'])\n",
    "model = sm.OLS(y, X)\n",
    "est_time1 = timeit.timeit('model.fit()', globals=globals(), number=10)\n",
    "model = LinearRegression()\n",
    "est_time2 = timeit.timeit('model.fit(X, y)', globals=globals(), number=10)\n",
    "model = linearmodels.PanelOLS(y_panel, X_panel, entity_effects=True, time_effects=True)\n",
    "est_time3 = timeit.timeit('model.fit()', globals=globals(), number=10)\n",
    "results_dict[\"estimation time\"] = [est_time1, est_time2, est_time3]\n"
   ]
  },
  {
   "cell_type": "code",
   "execution_count": 7,
   "metadata": {},
   "outputs": [
    {
     "name": "stdout",
     "output_type": "stream",
     "text": [
      "        library  estimation time    beta_1      beta_2\n",
      "0   statsmodels        16.613966  0.202560 -193.781718\n",
      "1       sklearn        89.365360  0.202569 -193.160454\n",
      "2  linearmodels       132.639871  0.202560 -193.892268\n"
     ]
    }
   ],
   "source": [
    "# Compare the results\n",
    "results_df = pd.DataFrame(results_dict)\n",
    "print(results_df)"
   ]
  },
  {
   "cell_type": "code",
   "execution_count": 8,
   "metadata": {},
   "outputs": [
    {
     "data": {
      "image/png": "[encoded data removed]",
      "text/plain": [
       "<Figure size 640x480 with 1 Axes>"
      ]
     },
     "metadata": {},
     "output_type": "display_data"
    }
   ],
   "source": [
    "# Visualize the time to estimate the models\n",
    "plt.bar(results_df['library'], results_df['estimation time'])\n",
    "plt.ylabel('Time to estimate model')\n",
    "plt.xlabel('Library')\n",
    "plt.show()"
   ]
  },
  {
   "cell_type": "markdown",
   "metadata": {},
   "source": [
    "## Estimation of models with many FE, but use sparse DataFrames\n",
    "\n",
    "Now, we'll redo the above, but use spare DataFrames to store the data.  We'll see how this affects the estimation time.\n",
    "\n",
    "First, we set up the data as sparse DataFrames."
   ]
  },
  {
   "cell_type": "code",
   "execution_count": 9,
   "metadata": {},
   "outputs": [],
   "source": [
    "# Make sparse DataFrame\n",
    "sdf = df.astype(pd.SparseDtype(\"int\", 0))\n",
    "# Set up X and y for regression\n",
    "y_sdf = df['export_value']\n",
    "X_sdf = df.drop(columns='export_value')"
   ]
  },
  {
   "cell_type": "code",
   "execution_count": 10,
   "metadata": {},
   "outputs": [],
   "source": [
    "# And do same for panel data\n",
    "df_panel = pd.read_csv(os.path.join(CUR_DIR, 'trade_data_small.csv'))\n",
    "# Clean data for regression\n",
    "df_panel.dropna(subset=['export_value', 'import_value', 'distw', 'year'], inplace=True)\n",
    "df_panel = df_panel[['export_value', 'import_value', 'distw', 'year', 'iso_o']]\n",
    "# create multiindex with year and iso_0\n",
    "df_panel = df_panel.set_index(['iso_o', 'year'])\n",
    "# cast as sparse data\n",
    "sdf_panel = df_panel.astype(pd.SparseDtype(\"int\", 0))\n",
    "X_sdfpanel = sdf_panel[['import_value', 'distw']]\n",
    "y_sdfpanel = sdf_panel['export_value']"
   ]
  },
  {
   "cell_type": "code",
   "execution_count": 11,
   "metadata": {},
   "outputs": [],
   "source": [
    "sparse_df_results_dict = {\n",
    "    \"library\": [\"sklearn\", \"linearmodels\"], #[\"statsmodels\", \"sklearn\", \"linearmodels\"],\n",
    "    \"estimation time\": [],\n",
    "    \"beta_1\": [],\n",
    "    \"beta_2\": []\n",
    "}\n",
    "for library in sparse_df_results_dict[\"library\"]:\n",
    "    if library == \"statsmodels\":\n",
    "        model = sm.OLS(y_sdf, X_sdf)\n",
    "        results = model.fit()\n",
    "        # est_time = timeit.timeit('model.fit()', globals=globals(), number=10)\n",
    "        # sparse_df_results_dict[\"estimation time\"].append(est_time)\n",
    "        sparse_df_results_dict[\"beta_1\"].append(results.params['import_value'])\n",
    "        sparse_df_results_dict[\"beta_2\"].append(results.params['distw'])\n",
    "    elif library == \"sklearn\":\n",
    "        model = LinearRegression()\n",
    "        model.fit(X_sdf, y_sdf)\n",
    "        # est_time = timeit.timeit('model.fit(X_sdf, y_sdf)', globals=globals(), number=10)\n",
    "        # sparse_df_results_dict[\"estimation time\"].append(est_time)\n",
    "        sparse_df_results_dict[\"beta_1\"].append(model.coef_[0])\n",
    "        sparse_df_results_dict[\"beta_2\"].append(model.coef_[1])\n",
    "    elif library == \"linearmodels\":\n",
    "        model = linearmodels.PanelOLS(y_sdfpanel, X_sdfpanel, entity_effects=True, time_effects=True)\n",
    "        results = model.fit()\n",
    "        # est_time = timeit.timeit('model.fit()', globals=globals(), number=10)\n",
    "        # sparse_df_results_dict[\"estimation time\"].append(est_time)\n",
    "        sparse_df_results_dict[\"beta_1\"].append(results.params['import_value'])\n",
    "        sparse_df_results_dict[\"beta_2\"].append(results.params['distw'])\n",
    "# model = sm.OLS(y_sdf, X_sdf)\n",
    "# est_time1 = timeit.timeit('model.fit()', globals=globals(), number=10)\n",
    "model = LinearRegression()\n",
    "est_time2 = timeit.timeit('model.fit(X_sdf, y_sdf)', globals=globals(), number=10)\n",
    "model = linearmodels.PanelOLS(y_sdfpanel, X_sdfpanel, entity_effects=True, time_effects=True)\n",
    "est_time3 = timeit.timeit('model.fit()', globals=globals(), number=10)\n",
    "sparse_df_results_dict[\"estimation time\"] = [est_time2, est_time3]"
   ]
  },
  {
   "cell_type": "code",
   "execution_count": 12,
   "metadata": {},
   "outputs": [
    {
     "name": "stdout",
     "output_type": "stream",
     "text": [
      "        library  estimation time    beta_1      beta_2\n",
      "0       sklearn        93.953737  0.202569 -193.160454\n",
      "1  linearmodels       136.190419  0.202560 -193.895386\n"
     ]
    }
   ],
   "source": [
    "# Compare the results\n",
    "sparse_df_results_df = pd.DataFrame(sparse_df_results_dict)\n",
    "print(sparse_df_results_df)"
   ]
  },
  {
   "cell_type": "code",
   "execution_count": 13,
   "metadata": {},
   "outputs": [
    {
     "data": {
      "image/png": "[encoded data removed]",
      "text/plain": [
       "<Figure size 640x480 with 1 Axes>"
      ]
     },
     "metadata": {},
     "output_type": "display_data"
    }
   ],
   "source": [
    "# Visualize the time to estimate the models\n",
    "plt.bar(sparse_df_results_df['library'], sparse_df_results_df['estimation time'])\n",
    "plt.ylabel('Time to estimate model')\n",
    "plt.xlabel('Library')\n",
    "plt.show()"
   ]
  },
  {
   "cell_type": "markdown",
   "metadata": {},
   "source": [
    "## Estimating models with many FEs, but use SciPy sparse matrices\n",
    "\n",
    "Now we do this one more time, using SciPy sparse matrices to store the data.  We'll see how this affects the estimation time.\n",
    "\n",
    "Note that this means we cannot use the `linearmodels` package, as it requires the data to be in a `PanelData` object.  \n",
    "\n",
    "In addition, `statsmodels` can't handle `scipy.sparse` objects.  We'll estimate this model with just Numpy arrays.\n",
    "\n",
    "`sklearn` is the only one of these libraries that can handle sparse matrices."
   ]
  },
  {
   "cell_type": "code",
   "execution_count": 14,
   "metadata": {},
   "outputs": [],
   "source": [
    "# Create sparse matrix in CSR format\n",
    "X_sparse = csr_matrix(X)\n",
    "y_arr = y.values"
   ]
  },
  {
   "cell_type": "code",
   "execution_count": 15,
   "metadata": {},
   "outputs": [],
   "source": [
    "sparse_results_dict = {\n",
    "    \"library\": [\"statsmodels\", \"sklearn\"],\n",
    "    \"estimation time\": [],\n",
    "    \"beta_1\": [],\n",
    "    \"beta_2\": []\n",
    "}\n",
    "for library in sparse_results_dict[\"library\"]:\n",
    "    if library == \"statsmodels\":\n",
    "        model = sm.OLS(y_arr, X_sparse.toarray())\n",
    "        results = model.fit()\n",
    "        # est_time = timeit.timeit('model.fit()', globals=globals(), number=1)\n",
    "        # print(\"Estimated time for statsmodels:\", est_time)\n",
    "        # sparse_results_dict[\"estimation time\"].append(est_time)\n",
    "        sparse_results_dict[\"beta_1\"].append(results.params[0])\n",
    "        sparse_results_dict[\"beta_2\"].append(results.params[1])\n",
    "    elif library == \"sklearn\":\n",
    "        model = LinearRegression()\n",
    "        model.fit(X_sparse, y_arr)\n",
    "        # est_time = timeit.timeit('model.fit(X_sparse, y_arr)', globals=globals(), number=1)\n",
    "        # print(\"Estimated time for sklearn:\", est_time)\n",
    "        # sparse_results_dict[\"estimation time\"].append(est_time)\n",
    "        sparse_results_dict[\"beta_1\"].append(model.coef_[0])\n",
    "        sparse_results_dict[\"beta_2\"].append(model.coef_[1])\n",
    "model = sm.OLS(y_arr, X_sparse.toarray())\n",
    "est_time1  = timeit.timeit('model.fit()', globals=globals(), number=10)\n",
    "model = LinearRegression()\n",
    "model.fit(X_sparse, y_arr)\n",
    "est_time2 = timeit.timeit('model.fit(X_sparse, y_arr)', globals=globals(), number=10)\n",
    "sparse_results_dict[\"estimation time\"] = [est_time1, est_time2]"
   ]
  },
  {
   "cell_type": "code",
   "execution_count": 16,
   "metadata": {},
   "outputs": [
    {
     "name": "stdout",
     "output_type": "stream",
     "text": [
      "       library  estimation time    beta_1      beta_2\n",
      "0  statsmodels        18.644245  0.202560 -193.781718\n",
      "1      sklearn         4.899787  0.203448 -196.704758\n"
     ]
    }
   ],
   "source": [
    "# Compare the results\n",
    "sparse_results_df = pd.DataFrame(sparse_results_dict)\n",
    "print(sparse_results_df)"
   ]
  },
  {
   "cell_type": "code",
   "execution_count": 17,
   "metadata": {},
   "outputs": [
    {
     "data": {
      "image/png": "[encoded data removed]",
      "text/plain": [
       "<Figure size 640x480 with 1 Axes>"
      ]
     },
     "metadata": {},
     "output_type": "display_data"
    }
   ],
   "source": [
    "# Visualize the time to estimate the models\n",
    "plt.bar(sparse_results_df['library'], sparse_results_df['estimation time'])\n",
    "plt.ylabel('Time to estimate model')\n",
    "plt.xlabel('Library')\n",
    "plt.show()"
   ]
  },
  {
   "cell_type": "code",
   "execution_count": 27,
   "metadata": {},
   "outputs": [
    {
     "data": {
      "image/png": "[encoded data removed]",
      "text/plain": [
       "<Figure size 640x480 with 1 Axes>"
      ]
     },
     "metadata": {},
     "output_type": "display_data"
    }
   ],
   "source": [
    "# Visualize the time to estimate sklearn models\n",
    "data_format = ['df', 'sdf', 'sparse']\n",
    "estimation_time = [\n",
    "    results_dict[\"estimation time\"][1],\n",
    "    sparse_df_results_dict[\"estimation time\"][0],\n",
    "    sparse_results_dict[\"estimation time\"][1],\n",
    "]\n",
    "plt.bar(data_format, estimation_time)\n",
    "plt.ylabel('Time to estimate model (seconds)')\n",
    "plt.xlabel('Data format')\n",
    "plt.show()"
   ]
  },
  {
   "cell_type": "code",
   "execution_count": 19,
   "metadata": {},
   "outputs": [
    {
     "name": "stdout",
     "output_type": "stream",
     "text": [
      "Size of X =  3940.723584\n",
      "Size of X_sdf =  636.262662\n",
      "Size of X_sparse =  195.787376\n"
     ]
    }
   ],
   "source": [
    "# What about the memory footprint?\n",
    "# Compare sizes of objects above\n",
    "print(\"Size of X = \", X.memory_usage(index=True).sum()/1e6) # Pandas DataFrame\n",
    "print(\"Size of X_sdf = \", X_sdf.memory_usage(index=True).sum()/1e6)  # Pandas sparse DataFrame\n",
    "print(\"Size of X_sparse = \", X_sparse.data.nbytes/1e6)  # Scipy sparse object"
   ]
  },
  {
   "cell_type": "code",
   "execution_count": 20,
   "metadata": {},
   "outputs": [
    {
     "data": {
      "image/png": "[encoded data removed]",
      "text/plain": [
       "<Figure size 640x480 with 1 Axes>"
      ]
     },
     "metadata": {},
     "output_type": "display_data"
    }
   ],
   "source": [
    "# Plot the memory footprint\n",
    "data_format = ['df', 'sdf', 'sparse']\n",
    "memory_footprint = [\n",
    "    X.memory_usage(index=True).sum()/1e6,\n",
    "    X_sdf.memory_usage(index=True).sum()/1e6,\n",
    "    X_sparse.data.nbytes/1e6\n",
    "]\n",
    "plt.bar(data_format, memory_footprint)\n",
    "plt.ylabel('Memory footprint (MB)')\n",
    "plt.xlabel('Data format')\n",
    "plt.show()"
   ]
  },
  {
   "cell_type": "markdown",
   "metadata": {},
   "source": [
    "# Estimating Poisson models\n"
   ]
  },
  {
   "cell_type": "code",
   "execution_count": 21,
   "metadata": {},
   "outputs": [
    {
     "name": "stderr",
     "output_type": "stream",
     "text": [
      "/Users/jason.debacker/anaconda3/envs/usitc-env/lib/python3.12/site-packages/numpy/core/fromnumeric.py:88: RuntimeWarning: overflow encountered in reduce\n",
      "  return ufunc.reduce(obj, axis, dtype, out, **passkwargs)\n"
     ]
    },
    {
     "name": "stdout",
     "output_type": "stream",
     "text": [
      "                          Poisson Regression Results                          \n",
      "==============================================================================\n",
      "Dep. Variable:           export_value   No. Observations:              6841534\n",
      "Model:                        Poisson   Df Residuals:                  6841532\n",
      "Method:                           MLE   Df Model:                            1\n",
      "Date:                Thu, 16 Jan 2025   Pseudo R-squ.:                  -3.021\n",
      "Time:                        06:23:08   Log-Likelihood:            -1.7640e+14\n",
      "converged:                       True   LL-Null:                   -4.3864e+13\n",
      "Covariance Type:            nonrobust   LLR p-value:                     1.000\n",
      "================================================================================\n",
      "                   coef    std err          z      P>|z|      [0.025      0.975]\n",
      "--------------------------------------------------------------------------------\n",
      "import_value  9.105e-10   1.34e-16   6.78e+06      0.000    9.11e-10    9.11e-10\n",
      "distw            0.0010   4.09e-11   2.35e+07      0.000       0.001       0.001\n",
      "================================================================================\n"
     ]
    }
   ],
   "source": [
    "from statsmodels.discrete.discrete_model import Poisson\n",
    "res = Poisson(df[\"export_value\"], df[[\"import_value\", \"distw\"]]).fit(method='nm', maxiter=5000, disp=0)\n",
    "print(res.summary())"
   ]
  },
  {
   "cell_type": "markdown",
   "metadata": {},
   "source": [
    "#### For Poisson with sparse matrices -- Use `sklearn`"
   ]
  },
  {
   "cell_type": "code",
   "execution_count": 60,
   "metadata": {},
   "outputs": [
    {
     "name": "stderr",
     "output_type": "stream",
     "text": [
      "/Users/jason.debacker/anaconda3/envs/usitc-env/lib/python3.12/site-packages/sklearn/linear_model/_glm/_newton_solver.py:576: LinAlgWarning: The inner solver of NewtonCholeskySolver stumbled upon a singular or very ill-conditioned Hessian matrix at iteration 2. It will now resort to lbfgs instead.\n",
      "Further options are to use another solver or to avoid such situation in the first place. Possible remedies are removing collinear features of X or increasing the penalization strengths.\n",
      "The original Linear Algebra message was:\n",
      "Ill-conditioned matrix (rcond=5.01744e-20): result may not be accurate.\n",
      "  warnings.warn(\n"
     ]
    },
    {
     "name": "stdout",
     "output_type": "stream",
     "text": [
      "[ 4.22474864e-10 -7.56944467e-05]\n",
      "14.409978350695052\n"
     ]
    }
   ],
   "source": [
    "\n",
    "from sklearn.linear_model import PoissonRegressor\n",
    "model = PoissonRegressor(solver='newton-cholesky',max_iter=1000)\n",
    "res = model.fit(df[[\"import_value\", \"distw\"]].values, df[\"export_value\"].values)\n",
    "print(res.coef_)\n",
    "print(res.intercept_)"
   ]
  },
  {
   "cell_type": "code",
   "execution_count": 61,
   "metadata": {},
   "outputs": [
    {
     "name": "stderr",
     "output_type": "stream",
     "text": [
      "/Users/jason.debacker/anaconda3/envs/usitc-env/lib/python3.12/site-packages/sklearn/linear_model/_glm/_newton_solver.py:576: LinAlgWarning: The inner solver of NewtonCholeskySolver stumbled upon a singular or very ill-conditioned Hessian matrix at iteration 1. It will now resort to lbfgs instead.\n",
      "Further options are to use another solver or to avoid such situation in the first place. Possible remedies are removing collinear features of X or increasing the penalization strengths.\n",
      "The original Linear Algebra message was:\n",
      "Ill-conditioned matrix (rcond=3.74248e-20): result may not be accurate.\n",
      "  warnings.warn(\n"
     ]
    },
    {
     "name": "stdout",
     "output_type": "stream",
     "text": [
      "[ 4.22474864e-10 -7.56944467e-05]\n",
      "14.409978350695052\n"
     ]
    }
   ],
   "source": [
    "from sklearn.linear_model import PoissonRegressor\n",
    "model = PoissonRegressor(solver='newton-cholesky',max_iter=1000)\n",
    "model.fit(X_sparse, y_arr)\n",
    "print(res.coef_)\n",
    "print(res.intercept_)"
   ]
  },
  {
   "cell_type": "markdown",
   "metadata": {},
   "source": [
    "# Formatting sklearn output\n",
    "\n",
    "SKlearn very efficient, but output not as nicely summarized."
   ]
  },
  {
   "cell_type": "code",
   "execution_count": 47,
   "metadata": {},
   "outputs": [],
   "source": [
    "def sklearn_results(model, X_cols, y_col, X, y):\n",
    "    \"\"\"\n",
    "    A function to format the results of a sklearn model and return\n",
    "    them as dictionary\n",
    "\n",
    "    Args:\n",
    "    model (sklearn model object): the model object, already fit\n",
    "    X_cols (list): Names of exogenous variables, in order enter model\n",
    "    y_col (str): Name of endogenous variable\n",
    "    X (array-like): 2D array of exogenous variables\n",
    "    y (array-like): 1D array endogenous variable\n",
    "\n",
    "    Returns:\n",
    "    dict: A dictionary of model results\n",
    "    \"\"\"\n",
    "    model_results = {}\n",
    "    model_results[\"Dependent Variable\"] = y_col\n",
    "    for i, col in enumerate(X_cols):\n",
    "        model_results[col] = model.coef_[i]\n",
    "    model_results[\"R-Squared\"] = model.score(X, y)\n",
    "    model_results[\"Observations\"] = X.shape[0]\n",
    "    return model_results\n",
    "\n"
   ]
  },
  {
   "cell_type": "code",
   "execution_count": 48,
   "metadata": {},
   "outputs": [
    {
     "data": {
      "text/plain": [
       "{'Dependent Variable': 'export_value',\n",
       " 'import_value': 0.2034478009199356,\n",
       " 'distw': -196.70475786443058,\n",
       " 'iso_o_CRI': -0.00536170972292674,\n",
       " 'iso_o_CZE': 0.016361216441839216,\n",
       " 'iso_o_FSM': -0.0006705220039924105,\n",
       " 'iso_o_NRU': -0.0005597680324280121,\n",
       " 'iso_o_SHN': -0.0005005001562735636,\n",
       " 'iso_o_SLB': -0.0015660314486792327,\n",
       " 'iso_o_SPM': -0.0008000375048379956,\n",
       " 'iso_o_TUR': -0.0014740845809364962,\n",
       " 'iso_o_VUT': -0.0019218130510708332,\n",
       " 'year_1963': -0.0003314625341894987,\n",
       " 'year_1964': -0.0003559006055611298,\n",
       " 'year_1965': -0.00039424504304590944,\n",
       " 'year_1966': -0.00041750327592403346,\n",
       " 'year_1967': -0.00042027374902611243,\n",
       " 'year_1968': -0.0004237431149449534,\n",
       " 'year_1969': -0.000440653506145772,\n",
       " 'year_1970': -0.000471917939044316,\n",
       " 'year_1971': -0.0005029044412445975,\n",
       " 'year_1972': -0.0005238131795914097,\n",
       " 'year_1973': -0.0005636223373928157,\n",
       " 'year_1974': -0.0006046815694359296,\n",
       " 'year_1975': -0.0006152054229865346,\n",
       " 'year_1976': -0.000211025964218911,\n",
       " 'year_1977': -0.00023033975568302243,\n",
       " 'year_1978': -0.00026856789577655644,\n",
       " 'year_1979': -0.00030967643357117554,\n",
       " 'year_1980': -0.00034342012603813895,\n",
       " 'year_1981': -0.00033789251281888795,\n",
       " 'year_1982': -0.0003344307582187192,\n",
       " 'year_1983': -0.00037049033698201576,\n",
       " 'year_1984': -0.00035553623792497664,\n",
       " 'year_1985': -0.0004195929669608266,\n",
       " 'year_1986': -0.0004961817995929304,\n",
       " 'year_1987': -0.0004883832151786087,\n",
       " 'year_1988': -0.00048044666268243246,\n",
       " 'year_1989': -0.0005076102894556728,\n",
       " 'year_1990': -0.0005573786229617568,\n",
       " 'year_1991': -0.0005462551994395367,\n",
       " 'year_1992': -0.0006290595927887977,\n",
       " 'year_1993': -0.0009710060813595458,\n",
       " 'year_1994': -0.0008993753573142055,\n",
       " 'year_1995': -0.0008922621601259329,\n",
       " 'year_1996': -0.0010054414368543757,\n",
       " 'year_1997': -0.001029848473531012,\n",
       " 'year_1998': -0.0009800162737294373,\n",
       " 'year_1999': -0.000960962624963983,\n",
       " 'year_2000': -0.001033433203002867,\n",
       " 'year_2001': -0.0008884427797976747,\n",
       " 'year_2002': -0.0008269735915128124,\n",
       " 'year_2003': -0.0006843499216069067,\n",
       " 'year_2004': -0.0004551003853518941,\n",
       " 'year_2005': -0.00030969511492175215,\n",
       " 'year_2006': -4.173631587866261e-05,\n",
       " 'year_2007': 0.0003942772045966562,\n",
       " 'year_2008': 0.0009209325560415462,\n",
       " 'year_2009': 0.00035619225521069667,\n",
       " 'year_2010': 0.0005457534984842693,\n",
       " 'year_2011': 0.001017790879671027,\n",
       " 'year_2012': 0.0013279928934557715,\n",
       " 'year_2013': 0.0012890119435582433,\n",
       " 'year_2014': 0.0015127002094861167,\n",
       " 'year_2015': 0.0011232333274438756,\n",
       " 'year_2016': 0.0011955609239909736,\n",
       " 'year_2017': 0.0015424709380925878,\n",
       " 'year_2018': 0.0021167224177576598,\n",
       " 'year_2019': 0.0022087536869732525,\n",
       " 'year_2020': 0.001980031444268242,\n",
       " 'year_2021': 0.0031641386412481487,\n",
       " 'year_2022': 0.0035433621340859723,\n",
       " 'R-Squared': 0.08804274535902701,\n",
       " 'Observations': 6841534}"
      ]
     },
     "execution_count": 48,
     "metadata": {},
     "output_type": "execute_result"
    }
   ],
   "source": [
    "model = LinearRegression()\n",
    "res = model.fit(X_sparse, y_arr)\n",
    "results = sklearn_results(res, X.columns, \"export_value\", X_sparse, y_arr)\n",
    "results"
   ]
  }
 ],
 "metadata": {
  "kernelspec": {
   "display_name": "usitc-env",
   "language": "python",
   "name": "python3"
  },
  "language_info": {
   "codemirror_mode": {
    "name": "ipython",
    "version": 3
   },
   "file_extension": ".py",
   "mimetype": "text/x-python",
   "name": "python",
   "nbconvert_exporter": "python",
   "pygments_lexer": "ipython3",
   "version": "3.12.7"
  }
 },
 "nbformat": 4,
 "nbformat_minor": 2
}
