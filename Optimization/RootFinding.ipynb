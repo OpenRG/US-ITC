{
 "cells": [
  {
   "cell_type": "markdown",
   "metadata": {},
   "source": [
    "# Root Finders in Python\n",
    "### by [Jason DeBacker](https://jasondebacker.com), October 2024\n",
    "\n",
    "This Jupyter Notebook illustrates how to do numerical root-finding in Python using the SciPy package.\n",
    "\n",
    "## The root-finding problem\n",
    "The general formulation of a root-finder of a system of $N$ non-linear equations can be written as, $\\phi(x|z,\\theta)=0$, where $f(\\cdot)$ is a nonlinear function of variables $x$ and $z$ and parameters $\\theta$.  The solution to this system of equations are values $\\hat{x}$ that satisfy $\\phi(x|z,\\theta)=0$:\n",
    "\n",
    "\n",
    "$$ \\hat{x} = x: \\quad \\phi(x|z,\\theta) = 0 $$\n",
    "\n",
    "\n",
    "\n",
    "## An Example: Minimizing Average Cost\n",
    "\n",
    "Recall our problem of minimizing average cost.  Given the total cost function $C(x) = a + bx + cx^2$ where output $x \\geq 0$ and $a$, $b$, $c$ are positive constants.  Average cost is thus given by $AC(x) = ax^{-1} + b + cx$.  Thus the minimization problem here is:\n",
    "\n",
    "$$ \\min_{x \\in \\mathbb{R}} : f(x) \\quad\\text{s.t}\\quad x\\geq 0 $$\n",
    "\n",
    "We can write this problem as a scalar root-finding problem where we find the $x$ that satisfies the first order necessary condition of minimizing average cost:\n",
    "\n",
    "$$\n",
    "-ax^{-2} + c = 0\n",
    "$$\n",
    "\n",
    "The $x$ that solves the FOC is the $x$ that minimizes $AC(x)$.\n",
    "\n",
    "With this simple problem, we know the $x$, which minimizing $AC(x)$:\n",
    "\n",
    "$$\n",
    "\\hat{x} = \\left(\\frac{a}{c}\\right)^{1/2}\n",
    "$$\n",
    "\n",
    "But let's see how we can find this minimum numerically with a root-finding algorithm."
   ]
  },
  {
   "cell_type": "code",
   "execution_count": 3,
   "metadata": {},
   "outputs": [],
   "source": [
    "# imports\n",
    "import numpy as np\n",
    "import scipy.optimize as opt"
   ]
  },
  {
   "cell_type": "code",
   "execution_count": 1,
   "metadata": {},
   "outputs": [],
   "source": [
    "# Write our the FOC of the AC(x) function -- our zero condition\n",
    "def FOC_AC(x, *params):\n",
    "    '''\n",
    "    The first order condition for the average cost function, written\n",
    "    as a zero condition.\n",
    "\n",
    "    Args:\n",
    "    x (scalar): The amount of output\n",
    "    params (tuple): The cost parameters.  A length-3 tuple.\n",
    "\n",
    "    Returns:\n",
    "        error (scalar): The value the FOC (zero in eq'm, but not elsewhere)\n",
    "    '''\n",
    "    a, b, c = params\n",
    "    error = -a * x ** -2 + c\n",
    "\n",
    "    return error"
   ]
  },
  {
   "cell_type": "code",
   "execution_count": 8,
   "metadata": {},
   "outputs": [
    {
     "name": "stdout",
     "output_type": "stream",
     "text": [
      "The analytical solution for x =  0.5773502691896257\n",
      "The numerical solution is  [0.57735027]\n",
      "The difference is  [0.]\n"
     ]
    }
   ],
   "source": [
    "# set parameters\n",
    "a, b, c = 1, 2, 3\n",
    "params = (a, b, c)\n",
    "# call the function with a root-finder\n",
    "results = opt.root(FOC_AC, 0.2, args=params)\n",
    "# compare to analytical solution\n",
    "print(\"The analytical solution for x = \", (a/c) ** (1/2))\n",
    "print(\"The numerical solution is \", results.x)\n",
    "print(\"The difference is \", np.abs((a/c) ** (1/2) - results.x))"
   ]
  },
  {
   "cell_type": "markdown",
   "metadata": {},
   "source": [
    "## Comparing with a minimization algorithm\n",
    "\n",
    "Great, we are able to recover the true minimum. \n",
    "\n",
    "How does a root-finder compare to numerical optimization used to find the minimum of a function directly?\n",
    "\n",
    "Let's compare..."
   ]
  },
  {
   "cell_type": "code",
   "execution_count": 9,
   "metadata": {},
   "outputs": [],
   "source": [
    "# Define the AC function, which we will minimize\n",
    "def avg_cost(x, *params):\n",
    "    '''\n",
    "    This function returns the average cost of output x given\n",
    "    cost parameters a, b, c.\n",
    "\n",
    "    Args:\n",
    "        x (scalar): The amount of output.\n",
    "        params (tuple): The cost parameters.  A length-3 tuple.\n",
    "\n",
    "    Returns:\n",
    "        ac (scalar): The average cost of producing x units of output.\n",
    "    '''\n",
    "    a, b, c = params\n",
    "    ac = a * (x ** -1) + b + c * x\n",
    "\n",
    "    return ac"
   ]
  },
  {
   "cell_type": "code",
   "execution_count": 18,
   "metadata": {},
   "outputs": [
    {
     "name": "stdout",
     "output_type": "stream",
     "text": [
      "561 μs ± 21.8 μs per loop (mean ± std. dev. of 7 runs, 1,000 loops each)\n",
      "71.5 μs ± 1.38 μs per loop (mean ± std. dev. of 7 runs, 10,000 loops each)\n",
      "49.7 μs ± 237 ns per loop (mean ± std. dev. of 7 runs, 10,000 loops each)\n"
     ]
    }
   ],
   "source": [
    "# call minimizer of avg_cost and root finder on FOC_AC and compare time to find min\n",
    "%timeit opt.minimize(avg_cost, 0.2, args=params, method=\"CG\")\n",
    "%timeit opt.minimize_scalar(avg_cost, bracket = [0.1, 3], args=params)\n",
    "%timeit opt.root(FOC_AC, 0.2, args=params)"
   ]
  },
  {
   "cell_type": "markdown",
   "metadata": {},
   "source": [
    "## Summary\n",
    "\n",
    "Minimization problems can often be reformulated as root-finding problems (and vice versa).\n",
    "\n",
    "In this single dimensional problem, the root finder is generally faster.  But this might not generalize to higher dimensional problems.  However, the root-finder is a useful tool to have in your toolbox for solving economic models.\n",
    "\n",
    "However, note that a potential limitation of the root-finding algorithms in `scipy.optimize.root` are that they do not accept bounds if the function is multi-dimensional -- so bounded root-finding methods need to be defined in a custom fashion (e.g., but recasting it as a minimization problem)."
   ]
  },
  {
   "cell_type": "markdown",
   "metadata": {},
   "source": []
  }
 ],
 "metadata": {
  "kernelspec": {
   "display_name": "usitc-env",
   "language": "python",
   "name": "python3"
  },
  "language_info": {
   "codemirror_mode": {
    "name": "ipython",
    "version": 3
   },
   "file_extension": ".py",
   "mimetype": "text/x-python",
   "name": "python",
   "nbconvert_exporter": "python",
   "pygments_lexer": "ipython3",
   "version": "3.12.7"
  }
 },
 "nbformat": 4,
 "nbformat_minor": 2
}
