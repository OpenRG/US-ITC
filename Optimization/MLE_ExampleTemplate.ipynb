{
 "cells": [
  {
   "cell_type": "markdown",
   "metadata": {},
   "source": [
    "# Example Problem: Estimating a model with MLE\n",
    "\n",
    "This notebook is an example of how to estimate a model using Maximum Likelihood Estimation (MLE). The model we will estimate is a simple linear regression model. The data generating process is as follows:\n",
    "\n",
    "The Stata data file `PSID_data.dta` provides you with the PSID used by [Heathcoate, Perri, and Violante](http://www.sciencedirect.com/science/article/pii/S1094202509000659) (*Review of Economic Dynamics*, 2010)}.  The raw data are available [here](https://ideas.repec.org/c/red/ccodes/09-214.html).  I've modified this only to deflate the labor incomes of heads and spouses (`hlabinc` and `wlabinc`) to 2005$.\n",
    "\n",
    "You need to do the following:\n",
    "1. Select only male heads of household who are between 25 and 60 years of age and earn wages $>$ \\$7/hr.\n",
    "2. Create indicator and continuous variables as necessary (see model below).\n",
    "3. Estimate the following model via a Maximum Likelihood Estimator separately for $t$ = 1971, 1980, 1990, 2000:\n",
    "    $$\n",
    "      ln(w_{i,t}) = \\alpha + \\beta_{1}Educ_{i,t} + \\beta_{2}Age_{i,t} + \\beta_{3}Age^2_{i,t} + \\beta_{4}Black_{i,t} + \\beta_{6}OtherRace_{i,t} + \\varepsilon_{i,t},\n",
    "    $$\n",
    "    where:\n",
    "\n",
    "     * $w_{i,t}$ = wage of individual $i$ in survey year $t$\n",
    "     * $Educ_{i,t}$ = education in years\n",
    "     * $Age_{i,t}$ = age in years\n",
    "     * $Black_{i,t}$, $OtherRace_{i,t}$ = dummy variables for race = Black, Not $\\in$ \\{White, Black}.\n",
    "4. Interpret the coefficient $\\beta_{1}$.  How do the returns to education change over time in these data?\n",
    "\\end{enumerate}\n",
    "\n",
    "The following variable definitions are provided for your benefit (the [PSID provides further documentation](https://psidonline.isr.umich.edu)):\n",
    "\n",
    "* `hlabinc` = annual labor income of the head\n",
    "* `hannhrs` = annual hours of the head\n",
    "* `hsex` = gender of the head (1=Male, 2=Female)\n",
    "* `hrace` = race of the head (1=White, 2=Black, 3=Native American, 4=Asian/Pacific Islander, 5=Hispanic, 6,7=Other)\n",
    "* `age` = age of the head\n",
    "* `hyrsed` = years of education of the head\n",
    "\n",
    "\n",
    "**HINT**: This model is linear.  So you can check your MLE against an OLS estimator to confirm your results.  See this [QuantEcon notebook](https://lectures.quantecon.org/py/ols.html) for a short tutorial on linear regressions in Python.  Also, you may want a bounded optimizer e.g., try the `L-BFGS-B` and `SLSQP` methods in `scipy.optimize.minimize()`.\n"
   ]
  },
  {
   "cell_type": "code",
   "execution_count": 37,
   "metadata": {},
   "outputs": [],
   "source": [
    "# Imports\n",
    "import pandas as pd\n",
    "import numpy as np\n",
    "import scipy.optimize as opt\n",
    "import scipy.stats as stats\n",
    "import statsmodels.formula.api as smf"
   ]
  },
  {
   "cell_type": "markdown",
   "metadata": {},
   "source": [
    "## Step 0:  Read in and clean the data"
   ]
  },
  {
   "cell_type": "code",
   "execution_count": null,
   "metadata": {},
   "outputs": [],
   "source": []
  },
  {
   "cell_type": "markdown",
   "metadata": {},
   "source": [
    "## Maximum Likelihood Estimation\n",
    "\n",
    "Log wages are modeled as:\n",
    "$$\n",
    "ln(w_{i,t}) = \\alpha + \\beta_{1}Educ_{i,t} + \\beta_{2}Age_{i,t} + \\beta_{3}Age^2_{i,t} + \\beta_{4}Black_{i,t} + \\beta_{5}Hispanic_{i,t} + \\beta_{6}OtherRace_{i,t} + \\varepsilon_{i,t},\n",
    "$$\n",
    "\n",
    "With the assumption that $\\varepsilon_{i,t} \\sim N(0, \\sigma^2)$.\n",
    "\n",
    "In MLE, we want to find the parameters, $\\hat{\\beta}$ and $\\hat{\\sigma}$, that maximize the likelihood of observing the outcome (log wages) conditional on the data.  i.e., for each year (which you will do separately for this question) we want to solve:\n",
    "\n",
    "$$\n",
    "max_{\\hat{\\beta}, \\hat{\\sigma}}\\prod_{i=1}^{N}p(y_{i,t}|x_{i};\\hat{\\beta}, \\hat{\\sigma})\n",
    "$$\n",
    "\n",
    "With the assumption that $\\varepsilon$ is distributed normally with mean zero and variance $\\sigma^2$, we know the functional form of the conditional probability function:\n",
    "\n",
    "$$\n",
    "\\prod_{i=1}^{N}\\frac{1}{\\sqrt{2\\pi \\sigma^2}} e^{-\\frac{\\left(y_{i} - \\hat{\\beta} x_{i}\\right)^2}{2 \\hat{\\sigma}^2}}\n",
    "$$\n",
    "\n",
    "We can estimate this, but it's often simpler to deal with the log-likelihood function:\n",
    "\n",
    "$$\n",
    "LL = log \\left( \\prod_{i=1}^{N}\\frac{1}{\\sqrt{2\\pi \\hat{\\sigma}^2}} e^{-\\frac{\\left(y_{i} - \\hat{\\beta} x_{i}\\right)^2}{2 \\hat{\\sigma}^2}} \\right)\n",
    "$$\n",
    "\n",
    "$$\n",
    "LL =  \\sum_{i=1}^{N}log \\left(\\frac{1}{\\sqrt{2\\pi \\hat{\\sigma}^2}} e^{-\\frac{\\left(y_{i} - \\hat{\\beta} x_{i}\\right)^2}{2 \\hat{\\sigma}^2}}\\right)\n",
    "$$\n",
    "\n",
    "$$\n",
    "LL = -\\frac{N}{2}log(2\\pi) - N log(\\hat{\\sigma}) - \\frac{1}{2\\hat{\\sigma}^2}\\sum_{i=1}^{N}\\left( y_{i} - \\hat{\\beta} x_{i}\\right)^2\n",
    "$$\n",
    "\n",
    "It's this LL function that we will use to estimate $\\beta$, $\\sigma$.\n",
    "\n",
    "### Step 1: Define the statistical objective function\n",
    "\n",
    "The first thing we'll do then is to write out this statistical objective function that is the LL function."
   ]
  },
  {
   "cell_type": "code",
   "execution_count": null,
   "metadata": {},
   "outputs": [],
   "source": []
  },
  {
   "cell_type": "markdown",
   "metadata": {},
   "source": [
    "### Step 2: Optimize the statistical objective function"
   ]
  },
  {
   "cell_type": "code",
   "execution_count": null,
   "metadata": {},
   "outputs": [],
   "source": []
  },
  {
   "cell_type": "markdown",
   "metadata": {},
   "source": [
    "### Step 3: Estimate with OLS and compare"
   ]
  },
  {
   "cell_type": "markdown",
   "metadata": {},
   "source": []
  }
 ],
 "metadata": {
  "kernelspec": {
   "display_name": "usitc-env",
   "language": "python",
   "name": "python3"
  },
  "language_info": {
   "codemirror_mode": {
    "name": "ipython",
    "version": 3
   },
   "file_extension": ".py",
   "mimetype": "text/x-python",
   "name": "python",
   "nbconvert_exporter": "python",
   "pygments_lexer": "ipython3",
   "version": "3.12.7"
  }
 },
 "nbformat": 4,
 "nbformat_minor": 2
}
