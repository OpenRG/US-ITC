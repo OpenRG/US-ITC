{
 "cells": [
  {
   "cell_type": "markdown",
   "metadata": {},
   "source": [
    "# Simulated Method of Moments\n",
    "\n",
    "Based on McFadden (*Econometrica*, 1989), the Simulated Method of Moments (SMM) is a method to estimate the parameters of a model by matching the moments of the data with the moments of the model. The moments are calculated by simulating the model many times and averaging the results. The method is particularly useful when the model is too complex to be solved analytically.\n",
    "\n",
    "The SMM estimator, $\\hat{\\theta}_{S,T}(W)$, is define as:\n",
    "\n",
    "$$\n",
    "\\hat{\\theta}_{S,T}(W)= argmin_{\\theta} \\left[ \\sum_{t=1}^{T}\\left(\\mu(x_t) - \\frac{1}{S} \\sum_{s=1}^{S} \\mu(x(u^s_t, \\theta)) \\right) \\right]^{'} W_T^{-1} \\left[ \\sum_{t=1}^{T}\\left(\\mu(x_t) - \\frac{1}{S} \\sum_{s=1}^{S} \\mu(x(u^s_t, \\theta)) \\right) \\right]\n",
    "$$\n",
    "\n",
    "where:\n",
    "* $x_t$ are a sequence of $T$ observations of the data\n",
    "* $\\mu(\\cdot)$ is a function of the data\n",
    "* $x(u^s_t, \\theta)$ is the model simulated data for the $s$-th simulation\n",
    "* $W_T$ is a weighting matrix\n",
    "\n",
    "## SMM with the McCall model\n",
    "\n",
    "We'll use SMM to estimate two parameters of our job search model. Recall that the McCall model had four parameters:\n",
    "1. $\\theta$, the replacement rate for unemployment benefits\n",
    "2. $\\beta$, the discount factor\n",
    "3. $\\mu$, the wage offer distribution mean\n",
    "4. $\\sigma$, the wage offer distribution standard deviation\n",
    "\n",
    "We'll assume that $\\beta=0.99$ and we'll consider the problem of college graduates, for whom the replacement rate is $\\theta=0.0$. We'll estimate the mean and standard deviation of the wage offer distribution.\n",
    "\n",
    "## The data\n",
    "\n",
    "For data, we'll use the following moments: the fraction of graduates who are employed after 90 days and the mean wage of those who are employed.  For [graduates from my business school who major in economics, finance, and marketing the numbers are](https://www.sc.edu/study/colleges_schools/moore/talent_recruiting/office_of_career_management/company_recruiter_resources/employment_statistics/index.php):\n",
    "\n",
    "### Data Moments\n",
    "\n",
    "|Major| Fraction Employed in 90 Days| Mean Salary |\n",
    "|---|---|---|\n",
    "|Economics| 86% | $72,542 |\n",
    "|Accounting| 90% | $70,223 |\n",
    "|Marketing| 85% | $63,249 |\n",
    "|Real Estate| 78% | $70,867 |\n",
    "\n",
    "## Estimation\n",
    "\n",
    "We'll use an identify matrix as the weight matrix.  We'll need to estimate $\\mu$ and $\\sigma$ separately for each major. As such, we'll use [Dask](https://www.dask.org) to parallelize the estimation process.\n"
   ]
  },
  {
   "cell_type": "code",
   "execution_count": 96,
   "metadata": {},
   "outputs": [],
   "source": [
    "# imports\n",
    "import numpy as np\n",
    "import pandas as pd\n",
    "import matplotlib.pyplot as plt\n",
    "import dask\n",
    "from dask import delayed\n",
    "from dask.distributed import Client\n",
    "import scipy.optimize as opt\n",
    "import scipy.stats as stats\n",
    "import plotly.express as px"
   ]
  },
  {
   "cell_type": "markdown",
   "metadata": {},
   "source": [
    "## Step 1: Write a function to solve the McCall model"
   ]
  },
  {
   "cell_type": "code",
   "execution_count": 97,
   "metadata": {},
   "outputs": [],
   "source": [
    "# Write the function to solve the McCall model\n"
   ]
  },
  {
   "cell_type": "markdown",
   "metadata": {},
   "source": [
    "## Step 2: Write functions to calculate the moments"
   ]
  },
  {
   "cell_type": "code",
   "execution_count": 98,
   "metadata": {},
   "outputs": [],
   "source": [
    "# Write a function for the 1st moment: fraction accepting offer by 90 days\n"
   ]
  },
  {
   "cell_type": "code",
   "execution_count": 99,
   "metadata": {},
   "outputs": [],
   "source": [
    "# Write a function for the 2nd moment: mean accepted offer"
   ]
  },
  {
   "cell_type": "markdown",
   "metadata": {},
   "source": [
    "## Step 3: Write a function represent the statistical objective function\n",
    "\n",
    "This will be the moment error function that we want to minimize."
   ]
  },
  {
   "cell_type": "code",
   "execution_count": 100,
   "metadata": {},
   "outputs": [],
   "source": [
    "# Write the statistical objective function\n"
   ]
  },
  {
   "cell_type": "markdown",
   "metadata": {},
   "source": [
    "## Step 4: Write the function you'll pass to the optimizer\n",
    "\n",
    "This function will take the parameters and data moments and return the moment errors."
   ]
  },
  {
   "cell_type": "code",
   "execution_count": 101,
   "metadata": {},
   "outputs": [],
   "source": [
    "# Write the SMM estimation function\n"
   ]
  },
  {
   "cell_type": "markdown",
   "metadata": {},
   "source": [
    "## Step 5: Write a function to estimate the parameters\n",
    "\n",
    "This function will take the data moments and return the estimated parameters as well as the model moments at those parameter estimates."
   ]
  },
  {
   "cell_type": "code",
   "execution_count": 102,
   "metadata": {},
   "outputs": [],
   "source": [
    "# Main function to run the SMM estimation\n"
   ]
  },
  {
   "cell_type": "markdown",
   "metadata": {},
   "source": [
    "## Step 6: Do the estimation -- for one major"
   ]
  },
  {
   "cell_type": "code",
   "execution_count": null,
   "metadata": {},
   "outputs": [],
   "source": [
    "# Do estimation\n"
   ]
  },
  {
   "cell_type": "markdown",
   "metadata": {},
   "source": [
    "## Step 7: Do the estimation for all majors\n",
    "\n",
    "In this case, you'll want to loop over all the majors and estimate the parameters for each one.  \n",
    "\n",
    "Note that we can use `dask.delayed` to parallelize the estimation process since each major is estimated independently."
   ]
  },
  {
   "cell_type": "code",
   "execution_count": null,
   "metadata": {},
   "outputs": [],
   "source": [
    "# Now let's do this for each major.  We can estimate each problem separately.\n",
    "# Set up the dictionary of data moments:\n",
    "data_moments_dict = {\n",
    "    \"Economics\": np.array([0.86, 72_542 / 365]),\n",
    "    \"Accounting\": np.array([0.90, 70_223 / 365]),\n",
    "    \"Marketing\": np.array([0.85, 63_249 / 365]),\n",
    "    \"Real Estate\": np.array([0.78, 70_867 / 365])\n",
    "}\n"
   ]
  },
  {
   "cell_type": "code",
   "execution_count": 105,
   "metadata": {},
   "outputs": [],
   "source": [
    "# put results in a dataframe\n",
    "results_df = pd.DataFrame(estimation_results_dict).T"
   ]
  },
  {
   "cell_type": "code",
   "execution_count": null,
   "metadata": {},
   "outputs": [],
   "source": [
    "# Plot mu, by major\n",
    "# put mean into dollars per year\n",
    "results_df[\"mu\"] = np.exp(results_df[\"mu\"].astype(float)) * 365\n",
    "px.bar(results_df, x=results_df.index, y=\"mu\", title=\"Estimated Mean Salary Offer, by Major\")"
   ]
  },
  {
   "cell_type": "code",
   "execution_count": null,
   "metadata": {},
   "outputs": [],
   "source": [
    "# Plot how std dev of salary offers varies by major\n",
    "px.bar(results_df, x=results_df.index, y=\"sigma\", title=\"Estimated Std Dev of Salary Offers, by Major\")"
   ]
  },
  {
   "cell_type": "code",
   "execution_count": null,
   "metadata": {},
   "outputs": [],
   "source": [
    "# Compare model to data moments in table\n",
    "results_df[[\"model_moments\", \"data_moments\"]]"
   ]
  }
 ],
 "metadata": {
  "kernelspec": {
   "display_name": "usitc-env",
   "language": "python",
   "name": "python3"
  },
  "language_info": {
   "codemirror_mode": {
    "name": "ipython",
    "version": 3
   },
   "file_extension": ".py",
   "mimetype": "text/x-python",
   "name": "python",
   "nbconvert_exporter": "python",
   "pygments_lexer": "ipython3",
   "version": "3.12.7"
  }
 },
 "nbformat": 4,
 "nbformat_minor": 2
}
